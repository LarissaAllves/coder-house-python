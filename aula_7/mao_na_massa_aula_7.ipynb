{
 "cells": [
  {
   "cell_type": "code",
   "execution_count": 1,
   "metadata": {},
   "outputs": [],
   "source": [
    "import numpy as np\n",
    "import pandas as pd"
   ]
  },
  {
   "cell_type": "markdown",
   "metadata": {},
   "source": [
    "Crie um array NumPy com 10 elementos inteiros aleatórios no intervalo [0,100] e exiba os valores e o tipo de dado do array"
   ]
  },
  {
   "cell_type": "code",
   "execution_count": 4,
   "metadata": {},
   "outputs": [
    {
     "name": "stdout",
     "output_type": "stream",
     "text": [
      "[98 40 68 36 12 87 40 20  1 83]\n",
      "int64\n"
     ]
    }
   ],
   "source": [
    "arr = np.random.randint(0,100, size=(10))\n",
    "print(arr)\n",
    "print(arr.dtype)\n"
   ]
  },
  {
   "cell_type": "markdown",
   "metadata": {},
   "source": [
    "Crie uma matriz 5x5 com valores aleatórios de [0,1] e encontre o valor mínimo, máximo e a media da matriz"
   ]
  },
  {
   "cell_type": "code",
   "execution_count": 11,
   "metadata": {},
   "outputs": [
    {
     "name": "stdout",
     "output_type": "stream",
     "text": [
      "[[0.58942026 0.20518549 0.62153763 0.34004138 0.2695234 ]\n",
      " [0.43437438 0.84338819 0.71951062 0.55334725 0.05934781]\n",
      " [0.22556715 0.30604046 0.25375812 0.90084256 0.52767963]\n",
      " [0.34114857 0.37525974 0.31877332 0.80835615 0.97162118]\n",
      " [0.82818835 0.02674539 0.78013043 0.41658185 0.63947314]]\n",
      "Minimo:  0.026745387028094814\n",
      "Maximo:  0.9716211772966367\n",
      "Media:  0.026745387028094814\n"
     ]
    }
   ],
   "source": [
    "arr = np.random.rand(5,5)\n",
    "\n",
    "print(arr)\n",
    "\n",
    "print(\"Minimo: \", arr.min())\n",
    "print(\"Maximo: \", arr.max())\n",
    "print(\"Media: \", arr.min ())\n",
    "\n",
    "\n",
    "\n"
   ]
  },
  {
   "cell_type": "markdown",
   "metadata": {},
   "source": [
    "Crie um array com 10 elementos aleatórios no intervalo [0,1] Em seguida, crie um novo array com os elementos do primeiro array multiplicados por 10 e convertidos para inteiro"
   ]
  },
  {
   "cell_type": "code",
   "execution_count": 14,
   "metadata": {},
   "outputs": [
    {
     "name": "stdout",
     "output_type": "stream",
     "text": [
      "[0.31042211 0.44926032 0.32416684 0.74173972 0.21047048 0.04756773\n",
      " 0.44511395 0.13520111 0.36669082 0.99506402]\n",
      "[3 4 3 7 2 0 4 1 3 9]\n"
     ]
    }
   ],
   "source": [
    "arr = np.random.rand(10)\n",
    "\n",
    "arr2 = arr * 10\n",
    "\n",
    "arr2_convert = arr2.astype(int)\n",
    "print(arr)\n",
    "print(arr2_convert)\n"
   ]
  },
  {
   "cell_type": "markdown",
   "metadata": {},
   "source": [
    "Crie um array de duas dimensões com shape(3,3) e valores aleatórios inteiros no intervalo [0,9]. Substitua todos os elementos da segunda linha por -1"
   ]
  },
  {
   "cell_type": "code",
   "execution_count": 19,
   "metadata": {},
   "outputs": [
    {
     "name": "stdout",
     "output_type": "stream",
     "text": [
      "[[1 6 4]\n",
      " [8 3 5]\n",
      " [6 8 2]]\n",
      "__________________\n",
      "[[ 1  6  4]\n",
      " [-1 -1 -1]\n",
      " [ 6  8  2]]\n"
     ]
    }
   ],
   "source": [
    "arr = np.random.randint(0,9, size=(3,3) )\n",
    "\n",
    "print(arr)\n",
    "print(\"__________________\")\n",
    "\n",
    "arr[1] = -1\n",
    "\n",
    "print(arr)"
   ]
  },
  {
   "cell_type": "markdown",
   "metadata": {},
   "source": [
    "Crie um DataFrame com as seguintes informações:\n",
    "Coluna Fruta: Banana,Maça,Pera\n",
    "Coluna Preco: 7.90,10.20,11.80\n",
    "Coluna Quantidade: 12,3,4"
   ]
  },
  {
   "cell_type": "code",
   "execution_count": 21,
   "metadata": {},
   "outputs": [
    {
     "name": "stdout",
     "output_type": "stream",
     "text": [
      "   Frutas  Preço  Quantidade\n",
      "0  Banana    7.9          12\n",
      "1    Maça   20.3           3\n",
      "2    Pera   22.8           4\n"
     ]
    }
   ],
   "source": [
    "hortifruti = {\n",
    "  \"Frutas\": [\"Banana\", \"Maça\", \"Pera\"],\n",
    "  \"Preço\": [7.90, 20.30, 22.80],\n",
    "  \"Quantidade\": [12, 3, 4]\n",
    "}\n",
    "hortifruti = pd.DataFrame(hortifruti)\n",
    "\n",
    "print(hortifruti)"
   ]
  }
 ],
 "metadata": {
  "kernelspec": {
   "display_name": "coder_house",
   "language": "python",
   "name": "python3"
  },
  "language_info": {
   "codemirror_mode": {
    "name": "ipython",
    "version": 3
   },
   "file_extension": ".py",
   "mimetype": "text/x-python",
   "name": "python",
   "nbconvert_exporter": "python",
   "pygments_lexer": "ipython3",
   "version": "3.12.3"
  }
 },
 "nbformat": 4,
 "nbformat_minor": 2
}
