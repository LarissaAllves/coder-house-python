{
 "cells": [
  {
   "cell_type": "code",
   "execution_count": 2,
   "metadata": {},
   "outputs": [],
   "source": [
    "import numpy as np\n",
    "import pandas as pd"
   ]
  },
  {
   "cell_type": "markdown",
   "metadata": {},
   "source": [
    "Crie um array NumPy com 10 elementos inteiros aleatórios no intervalo [0,100] e exiba os valores e o tipo de dado do array"
   ]
  },
  {
   "cell_type": "code",
   "execution_count": 6,
   "metadata": {},
   "outputs": [
    {
     "name": "stdout",
     "output_type": "stream",
     "text": [
      "[40 15 72 22 43 82 75  7 34 49]\n",
      "int64\n"
     ]
    }
   ],
   "source": [
    "# arr = np.random.randint(0,100, size=(10))\n",
    "# print(arr)\n",
    "# print(arr.dtype)\n",
    "\n",
    "np.random.seed(2)\n",
    "E1=np.random.randint(0,100,(10))\n",
    "print(E1)\n",
    "print(E1.dtype)\n",
    "\n"
   ]
  },
  {
   "cell_type": "markdown",
   "metadata": {},
   "source": [
    "Crie uma matriz 5x5 com valores aleatórios de [0,1] e encontre o valor mínimo, máximo e a media da matriz"
   ]
  },
  {
   "cell_type": "code",
   "execution_count": 11,
   "metadata": {},
   "outputs": [
    {
     "name": "stdout",
     "output_type": "stream",
     "text": [
      "[[0.58942026 0.20518549 0.62153763 0.34004138 0.2695234 ]\n",
      " [0.43437438 0.84338819 0.71951062 0.55334725 0.05934781]\n",
      " [0.22556715 0.30604046 0.25375812 0.90084256 0.52767963]\n",
      " [0.34114857 0.37525974 0.31877332 0.80835615 0.97162118]\n",
      " [0.82818835 0.02674539 0.78013043 0.41658185 0.63947314]]\n",
      "Minimo:  0.026745387028094814\n",
      "Maximo:  0.9716211772966367\n",
      "Media:  0.026745387028094814\n"
     ]
    }
   ],
   "source": [
    "arr = np.random.rand(5,5)\n",
    "\n",
    "print(arr)\n",
    "\n",
    "print(\"Minimo: \", arr.min())\n",
    "print(\"Maximo: \", arr.max())\n",
    "print(\"Media: \", arr.min ())\n",
    "\n",
    "\n",
    "\n"
   ]
  },
  {
   "cell_type": "markdown",
   "metadata": {},
   "source": [
    "Crie um array com 10 elementos aleatórios no intervalo [0,1] Em seguida, crie um novo array com os elementos do primeiro array multiplicados por 10 e convertidos para inteiro"
   ]
  },
  {
   "cell_type": "code",
   "execution_count": 14,
   "metadata": {},
   "outputs": [
    {
     "name": "stdout",
     "output_type": "stream",
     "text": [
      "[0.31042211 0.44926032 0.32416684 0.74173972 0.21047048 0.04756773\n",
      " 0.44511395 0.13520111 0.36669082 0.99506402]\n",
      "[3 4 3 7 2 0 4 1 3 9]\n"
     ]
    }
   ],
   "source": [
    "arr = np.random.rand(10)\n",
    "\n",
    "arr2 = arr * 10\n",
    "\n",
    "arr2_convert = arr2.astype(int)\n",
    "print(arr)\n",
    "print(arr2_convert)\n"
   ]
  },
  {
   "cell_type": "markdown",
   "metadata": {},
   "source": [
    "Crie um array de duas dimensões com shape(3,3) e valores aleatórios inteiros no intervalo [0,9]. Substitua todos os elementos da segunda linha por -1"
   ]
  },
  {
   "cell_type": "code",
   "execution_count": 8,
   "metadata": {},
   "outputs": [
    {
     "name": "stdout",
     "output_type": "stream",
     "text": [
      "[[7 6 1]\n",
      " [3 5 8]\n",
      " [4 6 3]]\n",
      "__________________\n",
      "[[ 7  6  1]\n",
      " [-1 -1 -1]\n",
      " [ 4  6  3]]\n"
     ]
    }
   ],
   "source": [
    "arr = np.random.randint(0,9, size=(3,3) )\n",
    "\n",
    "print(arr)\n",
    "print(\"__________________\")\n",
    "\n",
    "arr[1,:] = -1\n",
    "\n",
    "print(arr)"
   ]
  },
  {
   "cell_type": "markdown",
   "metadata": {},
   "source": [
    "Crie um DataFrame com as seguintes informações:\n",
    "Coluna Fruta: Banana,Maça,Pera\n",
    "Coluna Preco: 7.90,10.20,11.80\n",
    "Coluna Quantidade: 12,3,4"
   ]
  },
  {
   "cell_type": "code",
   "execution_count": 14,
   "metadata": {},
   "outputs": [
    {
     "name": "stdout",
     "output_type": "stream",
     "text": [
      "   Frutas  Preço  Quantidade\n",
      "0  Banana    7.9          12\n",
      "1    Maça   20.3           3\n",
      "2    Pera   22.8           4\n"
     ]
    }
   ],
   "source": [
    "hortifruti = {\n",
    "  \"Frutas\": [\"Banana\", \"Maça\", \"Pera\"],\n",
    "  \"Preço\": [7.90, 20.30, 22.80],\n",
    "  \"Quantidade\": [12, 3, 4]\n",
    "}\n",
    "hortifruti = pd.DataFrame(hortifruti)\n",
    "\n",
    "print(pd.DataFrame(hortifruti))"
   ]
  },
  {
   "cell_type": "code",
   "execution_count": 11,
   "metadata": {},
   "outputs": [
    {
     "data": {
      "text/html": [
       "<div>\n",
       "<style scoped>\n",
       "    .dataframe tbody tr th:only-of-type {\n",
       "        vertical-align: middle;\n",
       "    }\n",
       "\n",
       "    .dataframe tbody tr th {\n",
       "        vertical-align: top;\n",
       "    }\n",
       "\n",
       "    .dataframe thead th {\n",
       "        text-align: right;\n",
       "    }\n",
       "</style>\n",
       "<table border=\"1\" class=\"dataframe\">\n",
       "  <thead>\n",
       "    <tr style=\"text-align: right;\">\n",
       "      <th></th>\n",
       "      <th>Frutas</th>\n",
       "      <th>Preço</th>\n",
       "      <th>Quantidade</th>\n",
       "    </tr>\n",
       "  </thead>\n",
       "  <tbody>\n",
       "    <tr>\n",
       "      <th>0</th>\n",
       "      <td>Banana</td>\n",
       "      <td>7.9</td>\n",
       "      <td>12</td>\n",
       "    </tr>\n",
       "    <tr>\n",
       "      <th>1</th>\n",
       "      <td>Maça</td>\n",
       "      <td>20.3</td>\n",
       "      <td>3</td>\n",
       "    </tr>\n",
       "    <tr>\n",
       "      <th>2</th>\n",
       "      <td>Pera</td>\n",
       "      <td>22.8</td>\n",
       "      <td>4</td>\n",
       "    </tr>\n",
       "  </tbody>\n",
       "</table>\n",
       "</div>"
      ],
      "text/plain": [
       "   Frutas  Preço  Quantidade\n",
       "0  Banana    7.9          12\n",
       "1    Maça   20.3           3\n",
       "2    Pera   22.8           4"
      ]
     },
     "execution_count": 11,
     "metadata": {},
     "output_type": "execute_result"
    }
   ],
   "source": [
    "df = pd.DataFrame()\n",
    "df[\"Frutas\"] =  [\"Banana\", \"Maça\", \"Pera\"]\n",
    "df[\"Preço\"] = [7.90, 20.30, 22.80]\n",
    "df[\"Quantidade\"] = [12, 3, 4]\n",
    "\n",
    "df"
   ]
  }
 ],
 "metadata": {
  "kernelspec": {
   "display_name": "coder_house",
   "language": "python",
   "name": "python3"
  },
  "language_info": {
   "codemirror_mode": {
    "name": "ipython",
    "version": 3
   },
   "file_extension": ".py",
   "mimetype": "text/x-python",
   "name": "python",
   "nbconvert_exporter": "python",
   "pygments_lexer": "ipython3",
   "version": "3.12.3"
  }
 },
 "nbformat": 4,
 "nbformat_minor": 2
}
