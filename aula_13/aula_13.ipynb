{
 "cells": [
  {
   "cell_type": "markdown",
   "metadata": {},
   "source": [
    "Data Wrangling\n",
    "\n",
    "Tambem conhecido como minging, é o processo de limpar, transformar e preparar dados brutos para análise. É uma etapa crucial no fluxo de trabalho de análise de dados, pois os dados nem sempre estão em um formato adequado para serem diretamente utilizados em análises.\n",
    "\n",
    "Envolve várias tarefas\n",
    "\n",
    "- Coleta - obter os dados brutos de várias fontes, como bancos de dados, arquivos CSV, APIs da web, entre outros.\n",
    "- Limpeza - identificar e lidar com dados ausentes, duplicados ou inconsistentes. Isso pode envolver o preenchimento de valores ausentes, remoção de duplicatas e correção de erros nos dados.\n",
    "- Transformação - reformatar, reorganizar ou combinar dados para torná-los adequados para análise. Isso pode incluir a conversão de tipos de dados, a criação de variáveis derivadas, a normalização de dados, entre outros\n",
    "- Integração - combinar dados de várias fontes em um único conjunto de dados coeso. Isso pode envolver a junção de tabelas com base em chaves comuns ou a combinação de dados de diferentes formatos.\n",
    "\n",
    "- Redução - Reduzir o tamanho do conjunto de dados, removendo variáveis não relevantes ou agrupando dados em categorias mais amplas.\n",
    "- Validação - verificar a qualidade dos dados transformados e garantir que eles estejam corretos, consistentes e prontos para a análise"
   ]
  }
 ],
 "metadata": {
  "language_info": {
   "name": "python"
  }
 },
 "nbformat": 4,
 "nbformat_minor": 2
}
