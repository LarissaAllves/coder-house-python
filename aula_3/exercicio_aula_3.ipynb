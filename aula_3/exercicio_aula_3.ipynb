{
 "cells": [
  {
   "cell_type": "markdown",
   "metadata": {},
   "source": [
    "Exercício 1 \n",
    "Escreva um programa que receba um número inteiro e exiba se ele é par ou impar"
   ]
  },
  {
   "cell_type": "code",
   "execution_count": 2,
   "metadata": {},
   "outputs": [
    {
     "name": "stdout",
     "output_type": "stream",
     "text": [
      "O número digitado é par\n"
     ]
    }
   ],
   "source": [
    "valor = int(input(\"Digite um número inteiro\"))\n",
    "\n",
    "resto = valor % 2\n",
    "\n",
    "if(resto == 0):\n",
    "  print(\"O número digitado é par\")\n",
    "else:\n",
    "  print(\"O número digitado é ímpar\")\n"
   ]
  },
  {
   "cell_type": "markdown",
   "metadata": {},
   "source": [
    "Exercício 2 - Escreva um programa em python que solicita ao usuário uma frase e , em seguida, exibe cada palavra e seu número de caracteres"
   ]
  },
  {
   "cell_type": "code",
   "execution_count": 5,
   "metadata": {},
   "outputs": [
    {
     "name": "stdout",
     "output_type": "stream",
     "text": [
      "['Oi,', 'tudo', 'bem?']\n",
      "Oi,: 3 caracteres\n",
      "tudo: 4 caracteres\n",
      "bem?: 4 caracteres\n"
     ]
    }
   ],
   "source": [
    "frase = input(\"Digite uma frase: \")\n",
    "\n",
    "palavras = frase.split()\n",
    "print(palavras)\n",
    "\n",
    "for palavra in palavras:\n",
    "    print(f\"{palavra}: {len(palavra)} caracteres\")\n"
   ]
  },
  {
   "cell_type": "markdown",
   "metadata": {},
   "source": [
    "Exercício 3 - Crie um programa em Python que solicita ao usuário uma senha numérica de 4 dígitos. O programa deve repetir essa solicitação até que o usuário informe a senha correta (1234)"
   ]
  },
  {
   "cell_type": "code",
   "execution_count": null,
   "metadata": {},
   "outputs": [],
   "source": [
    "while True:\n",
    "    senha = input(\"Digite sua senha: \")\n",
    "    if len(senha) != 4 or not senha.isdigit():\n",
    "      print('A senha deve ter 4 dígitos')\n",
    "      continue\n",
    "\n",
    "    senha = int(senha)\n",
    "\n",
    "    if (senha != 1234):\n",
    "      print(\"A senha está incorreta\")\n",
    "    \n",
    "    else:\n",
    "      print(\"A senha está correta\")\n",
    "      break"
   ]
  },
  {
   "cell_type": "markdown",
   "metadata": {},
   "source": [
    "Exercício 4 - Escreva um programa que dado um valor n calcula o fatorial de n\n"
   ]
  },
  {
   "cell_type": "code",
   "execution_count": 1,
   "metadata": {},
   "outputs": [
    {
     "name": "stdout",
     "output_type": "stream",
     "text": [
      "O número digitado foir3\n",
      "1!: 1 * 3 = 1\n",
      "2!: 2 * 3 = 2\n",
      "3!: 3 * 3 = 6\n",
      "O resultado de 3! é: 6\n"
     ]
    }
   ],
   "source": [
    "\n",
    "numero = int(input('Digite um número inteiro: '))\n",
    "\n",
    "print(f\"O número digitado foi {numero}\")\n",
    "\n",
    "resultado = 1 # resultado do fatorial\n",
    "\n",
    "for n in range(1, numero+1):\n",
    "    resultado *= n\n",
    "\n",
    "    print(f'{n}!: {n} * {numero} = {resultado}')\n",
    "\n",
    "print(f'O resultado de {numero}! é: {resultado}')"
   ]
  },
  {
   "cell_type": "markdown",
   "metadata": {},
   "source": [
    "Exercício 5 - Crie um dicionário com os dados da tabela abaixo, crie um loop para exibir os valores\n",
    "| Mês       | Quantidade |\n",
    "|-----------|---------|\n",
    "| Janeiro   | 232 |\n",
    "| Fevereiro | 321 |\n",
    "| Junho     | 589 |\n",
    "| Julho     | 547 |"
   ]
  },
  {
   "cell_type": "code",
   "execution_count": 28,
   "metadata": {},
   "outputs": [
    {
     "name": "stdout",
     "output_type": "stream",
     "text": [
      "Mês\t\t|\t\tQuantidade\n",
      "Janeiro\t\t|\t\t232\n",
      "Fevereiro\t\t|\t\t321\n",
      "Junho\t\t|\t\t589\n",
      "Julho\t\t|\t\t547\n"
     ]
    }
   ],
   "source": [
    "valores = {\n",
    "  \"Mês\": [\"Janeiro\", \"Fevereiro\", \"Junho\", \"Julho\"],\n",
    "  \"Quantidade\": [232, 321, 589, 547]\n",
    "}\n",
    "print(\"Mês\\t\\t|\\t\\tQuantidade\")\n",
    "\n",
    "\n",
    "for i in range(len(valores[\"Mês\"])):\n",
    "  \n",
    "  print(f\"{valores[\"Mês\"][i]}\\t\\t|\\t\\t{valores[\"Quantidade\"][i]}\")\n"
   ]
  }
 ],
 "metadata": {
  "kernelspec": {
   "display_name": "coder_house",
   "language": "python",
   "name": "python3"
  },
  "language_info": {
   "codemirror_mode": {
    "name": "ipython",
    "version": 3
   },
   "file_extension": ".py",
   "mimetype": "text/x-python",
   "name": "python",
   "nbconvert_exporter": "python",
   "pygments_lexer": "ipython3",
   "version": "3.12.3"
  }
 },
 "nbformat": 4,
 "nbformat_minor": 2
}
