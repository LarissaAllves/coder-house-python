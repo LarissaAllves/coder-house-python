{
 "cells": [
  {
   "cell_type": "code",
   "execution_count": 5,
   "metadata": {},
   "outputs": [],
   "source": [
    "##Exemplo \n",
    "\n",
    "from plyer import notification\n",
    "\n",
    "notification.notify(\n",
    "  title= \"Titulo da notificacao\",\n",
    "  message= \"Mensagem da notiificação\",\n",
    "  app_name= \"Nome do app\",\n",
    "  timeout=10\n",
    ")"
   ]
  },
  {
   "cell_type": "markdown",
   "metadata": {},
   "source": [
    "A função precisa ter essa definição\n",
    "\n",
    "def alert(nivel, base, etapa):\n",
    "\n",
    "Ao chamar a função deverá gerá uma janela de alerta,\n",
    "Exibir a mensagem \"Falha no carregamento da base { base} na etapa { etapa}\n",
    "Exibir data atual\n",
    "O título \"Alerta baixo\" quando o nível =1 , Alerta médio quando o nivel =2 , Alerta alto quando nível igual a 3"
   ]
  },
  {
   "cell_type": "code",
   "execution_count": 18,
   "metadata": {},
   "outputs": [],
   "source": [
    "from plyer import notification\n",
    "from datetime import datetime\n",
    "\n",
    "def alerta(nivel, base, etapa):\n",
    "\n",
    "  if nivel == 1:\n",
    "    titulo= \"Alerta Baixo\"\n",
    "  elif nivel == 2:\n",
    "    titulo = \"Alerta Médio\"\n",
    "  else:\n",
    "    titulo = \"Alerta Alto\"\n",
    "\n",
    "  data_atual = datetime.now().strftime(\"%Y-%m-%d %H:%M:%S\")\n",
    "\n",
    "  messagem = f\"Falha no carregamento da base {base} na fase de {etapa}. Data: {data_atual}\"\n",
    "\n",
    "\n",
    "  notification.notify(\n",
    "  title=titulo,\n",
    "  message= messagem,\n",
    "  app_name= \"Exercício Aula 5\",\n",
    "  timeout=10\n",
    ")\n",
    "\n",
    "alerta(3, \"Base de Dados\", \"Teste\")"
   ]
  }
 ],
 "metadata": {
  "kernelspec": {
   "display_name": "coder_house",
   "language": "python",
   "name": "python3"
  },
  "language_info": {
   "codemirror_mode": {
    "name": "ipython",
    "version": 3
   },
   "file_extension": ".py",
   "mimetype": "text/x-python",
   "name": "python",
   "nbconvert_exporter": "python",
   "pygments_lexer": "ipython3",
   "version": "3.12.3"
  }
 },
 "nbformat": 4,
 "nbformat_minor": 2
}
