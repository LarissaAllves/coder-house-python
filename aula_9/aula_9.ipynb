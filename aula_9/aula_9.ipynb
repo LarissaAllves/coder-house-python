{
 "cells": [
  {
   "cell_type": "markdown",
   "metadata": {},
   "source": [
    "Banco de Dados e Python\n",
    "\n",
    "Conexão - Podemos criar ou conectar a um banco de dados usando o comando sqlite3.connect(). Para salvar diretamente um dataframe utilize o método .to_sql() do pandas. Lembre de fechar a conexão com o close()\n",
    "\n",
    "Leitura - A função read_sql() permite executar uma consulta SQL no banco de dados e retornar os resultados como um DataFrame do pandas. Abrir conexão sempre**\n",
    "\n",
    "Listar tabelas - Para verificar as tabelas que estão no banco de dados podemos utilizar a query: \n",
    " `SELECT name \n",
    "  FROM sqlite_master  \n",
    "  WHERE type='table`\n",
    "\n"
   ]
  },
  {
   "cell_type": "markdown",
   "metadata": {},
   "source": [
    "Outras bibliotecas populares usadas para interagir com diferentes bancos\n",
    "\n",
    "- **psycopg2** - Usada para acessar bancos de dados PostgreSQL  \n",
    "- **mysql-connector-python** - Usada para acessar bancos de dados MySQL  \n",
    "- **pymongo** - Usada para acessar bancos de dados MongoDB  \n",
    "- **pyodbc** - Usada para acessar bancos de dados ODBC, incluindo Microsoft SQL Server, Oracle, DB2 e outros  \n",
    "- **sqlalchemy** - Permite trabalhar com vários bancos de dados relacionais e não relacionais de forma consistente usando uma API comum  \n"
   ]
  },
  {
   "cell_type": "code",
   "execution_count": 3,
   "metadata": {},
   "outputs": [],
   "source": [
    "import pandas as pd\n",
    "import numpy as np\n",
    "import sqlite3 \n"
   ]
  },
  {
   "cell_type": "code",
   "execution_count": 5,
   "metadata": {},
   "outputs": [
    {
     "data": {
      "text/html": [
       "<div>\n",
       "<style scoped>\n",
       "    .dataframe tbody tr th:only-of-type {\n",
       "        vertical-align: middle;\n",
       "    }\n",
       "\n",
       "    .dataframe tbody tr th {\n",
       "        vertical-align: top;\n",
       "    }\n",
       "\n",
       "    .dataframe thead th {\n",
       "        text-align: right;\n",
       "    }\n",
       "</style>\n",
       "<table border=\"1\" class=\"dataframe\">\n",
       "  <thead>\n",
       "    <tr style=\"text-align: right;\">\n",
       "      <th></th>\n",
       "      <th>Nome</th>\n",
       "      <th>Valor</th>\n",
       "    </tr>\n",
       "  </thead>\n",
       "  <tbody>\n",
       "    <tr>\n",
       "      <th>0</th>\n",
       "      <td>Ovos</td>\n",
       "      <td>10</td>\n",
       "    </tr>\n",
       "    <tr>\n",
       "      <th>1</th>\n",
       "      <td>Manteiga</td>\n",
       "      <td>20</td>\n",
       "    </tr>\n",
       "    <tr>\n",
       "      <th>2</th>\n",
       "      <td>Peixe</td>\n",
       "      <td>30</td>\n",
       "    </tr>\n",
       "  </tbody>\n",
       "</table>\n",
       "</div>"
      ],
      "text/plain": [
       "       Nome  Valor\n",
       "0      Ovos     10\n",
       "1  Manteiga     20\n",
       "2     Peixe     30"
      ]
     },
     "execution_count": 5,
     "metadata": {},
     "output_type": "execute_result"
    }
   ],
   "source": [
    "df_produtos = pd.DataFrame()\n",
    "df_produtos[\"Nome\"] =  [\"Ovos\", \"Manteiga\", \"Peixe\"]\n",
    "df_produtos[\"Valor\"] = [10, 20, 30]\n",
    "\n",
    "df_produtos"
   ]
  },
  {
   "cell_type": "code",
   "execution_count": 6,
   "metadata": {},
   "outputs": [],
   "source": [
    "\n",
    "#Conectar ao banco de dados\n",
    "conn = sqlite3.connect('coderhouse.db')\n",
    "\n",
    "#Escrever um dataFrame na tabela Produtos\n",
    "\n",
    "df_produtos.to_sql('produtos', conn, if_exists='replace', index=False)\n",
    "\n",
    "#Fechar a conexão  com o banco de dados\n",
    "\n",
    "conn.close()"
   ]
  },
  {
   "cell_type": "code",
   "execution_count": 7,
   "metadata": {},
   "outputs": [
    {
     "name": "stdout",
     "output_type": "stream",
     "text": [
      "       Nome  Valor\n",
      "0      Ovos     10\n",
      "1  Manteiga     20\n",
      "2     Peixe     30\n"
     ]
    }
   ],
   "source": [
    "#leitura\n",
    "\n",
    "#conexão com o banco\n",
    "conn = sqlite3.connect('coderhouse.db')\n",
    "\n",
    "#Consulta com SELECT e converte em DF\n",
    "query = \"SELECT * FROM produtos\"\n",
    "df = pd.read_sql(query, conn)\n",
    "print(df)\n",
    "\n",
    "#fecha a conexão\n",
    "conn.close()"
   ]
  },
  {
   "cell_type": "code",
   "execution_count": 9,
   "metadata": {},
   "outputs": [
    {
     "name": "stdout",
     "output_type": "stream",
     "text": [
      "       name\n",
      "0  produtos\n"
     ]
    }
   ],
   "source": [
    "#Listar tabelas\n",
    "\n",
    "#Conexão com o banco\n",
    "conn = sqlite3.connect('coderhouse.db')\n",
    "\n",
    "#Executar a consulta que retorna as infos do esquema do banco\n",
    "\n",
    "query = \"SELECT name FROM sqlite_master WHERE type='table'\"\n",
    "schema = pd.read_sql_query(query, conn)\n",
    "\n",
    "#Imprimir o DataFrame com os nomes das tabelas\n",
    "\n",
    "print(schema)\n",
    "\n",
    "#Fechar conexão\n",
    "\n",
    "conn.close()\n",
    "\n"
   ]
  }
 ],
 "metadata": {
  "kernelspec": {
   "display_name": "coder_house",
   "language": "python",
   "name": "python3"
  },
  "language_info": {
   "codemirror_mode": {
    "name": "ipython",
    "version": 3
   },
   "file_extension": ".py",
   "mimetype": "text/x-python",
   "name": "python",
   "nbconvert_exporter": "python",
   "pygments_lexer": "ipython3",
   "version": "3.12.3"
  }
 },
 "nbformat": 4,
 "nbformat_minor": 2
}
