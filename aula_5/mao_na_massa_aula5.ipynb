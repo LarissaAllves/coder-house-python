{
 "cells": [
  {
   "cell_type": "markdown",
   "metadata": {},
   "source": [
    "Crie uma classe Retangulo que tenha os atributos base e altura e os métodos área() e perimetro. Crie um objeto e teste os metodos."
   ]
  },
  {
   "cell_type": "code",
   "execution_count": 15,
   "metadata": {},
   "outputs": [],
   "source": [
    "class Retangulo:\n",
    "  def __init__(self, base, altura):\n",
    "    self.base = base\n",
    "    self.altura = altura\n",
    "\n",
    "  def area(self):\n",
    "      calcArea = self.base * self.altura \n",
    "      return calcArea\n",
    "  \n",
    "  def perimetro(self):\n",
    "      calcPerimetro = 2 * (self.base + self.altura)\n",
    "      return calcPerimetro\n",
    "\n",
    "\n",
    "calcRetangulo = Retangulo(10,4)\n",
    "\n",
    "print(\"Área:\", calcRetangulo.area())\n",
    "print(\"Perímetro\", calcRetangulo.perimetro())\n"
   ]
  },
  {
   "cell_type": "markdown",
   "metadata": {},
   "source": [
    "Crie um arquivo chamado geometria.py e salve a classe Retangulo dentro desse arquivo. Importe a classe de algum outro arquivo e realize os testes."
   ]
  },
  {
   "cell_type": "code",
   "execution_count": 18,
   "metadata": {},
   "outputs": [
    {
     "name": "stdout",
     "output_type": "stream",
     "text": [
      "Área: 4080\n",
      "Perímetro 284\n"
     ]
    }
   ],
   "source": [
    "from geometria import Retangulo\n",
    "\n",
    "retangulo = Retangulo(102, 40)\n",
    "\n",
    "print(\"Área:\", retangulo.area())\n",
    "print(\"Perímetro\", retangulo.perimetro())\n",
    "\n"
   ]
  },
  {
   "cell_type": "markdown",
   "metadata": {},
   "source": [
    "Crie uma classe Conta que tenha os atributos saldo e titular e os metodos depositar() e sacar(). Em seguida, instancie e realize algumas operações de depósito e saque para verificar se o saldo está sendo atualizado corretamente."
   ]
  },
  {
   "cell_type": "code",
   "execution_count": 19,
   "metadata": {},
   "outputs": [
    {
     "name": "stdout",
     "output_type": "stream",
     "text": [
      "Depósito de R$100.00 realizado com sucesso.\n",
      "Olá Larissa seu saldo atual é de: R$400.00\n",
      "Saque de R$200.00 realizado com sucesso.\n",
      "Olá Larissa seu saldo atual é de: R$200.00\n"
     ]
    }
   ],
   "source": [
    "class Conta:\n",
    "  def __init__(self, saldo, titular):\n",
    "    self.saldo = saldo\n",
    "    self.titular = titular\n",
    "    \n",
    "  def depositar(self, valorDoDeposito):\n",
    "    if valorDoDeposito > 0:\n",
    "      self.saldo += valorDoDeposito\n",
    "      print(f\"Depósito de R${valorDoDeposito:.2f} realizado com sucesso.\")\n",
    "\n",
    "  def sacar(self, valorDoSaque):\n",
    "    if 0 < valorDoSaque <= self.saldo:\n",
    "      self.saldo -= valorDoSaque\n",
    "      print(f\"Saque de R${valorDoSaque:.2f} realizado com sucesso.\")\n",
    "\n",
    "  def exibir_saldo(self):\n",
    "        print(f\"Olá {self.titular} seu saldo atual é de: R${self.saldo:.2f}\")\n",
    "\n",
    "\n",
    "conta = Conta(300, \"Larissa\")\n",
    "\n",
    "conta.depositar(100)\n",
    "conta.exibir_saldo()\n",
    "conta.sacar(200)\n",
    "conta.exibir_saldo()\n",
    "\n",
    "\n"
   ]
  }
 ],
 "metadata": {
  "kernelspec": {
   "display_name": "coder_house",
   "language": "python",
   "name": "python3"
  },
  "language_info": {
   "codemirror_mode": {
    "name": "ipython",
    "version": 3
   },
   "file_extension": ".py",
   "mimetype": "text/x-python",
   "name": "python",
   "nbconvert_exporter": "python",
   "pygments_lexer": "ipython3",
   "version": "3.12.3"
  }
 },
 "nbformat": 4,
 "nbformat_minor": 2
}
