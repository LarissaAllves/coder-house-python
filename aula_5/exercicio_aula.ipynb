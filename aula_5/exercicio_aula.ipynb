{
 "cells": [
  {
   "cell_type": "code",
   "execution_count": 1,
   "metadata": {},
   "outputs": [
    {
     "name": "stdout",
     "output_type": "stream",
     "text": [
      "oi\n"
     ]
    }
   ],
   "source": [
    "print(\"oi\")"
   ]
  },
  {
   "cell_type": "code",
   "execution_count": 8,
   "metadata": {},
   "outputs": [],
   "source": [
    "class Cachorro:\n",
    "  def __init__(self, nome, idade, raca):\n",
    "    self.nome = nome\n",
    "    self.idade = idade\n",
    "    self.raca = raca\n",
    "\n",
    "  def latir(self):\n",
    "      print( \"AU\")\n",
    "\n"
   ]
  },
  {
   "cell_type": "code",
   "execution_count": 9,
   "metadata": {},
   "outputs": [
    {
     "name": "stdout",
     "output_type": "stream",
     "text": [
      "Vira-lata\n"
     ]
    }
   ],
   "source": [
    "meu_cachorro = Cachorro(\"Milo\", 12, 'Vira-lata')\n",
    "print(meu_cachorro.raca)"
   ]
  },
  {
   "cell_type": "code",
   "execution_count": 10,
   "metadata": {},
   "outputs": [
    {
     "name": "stdout",
     "output_type": "stream",
     "text": [
      "AU\n"
     ]
    }
   ],
   "source": [
    "meu_cachorro.latir()"
   ]
  },
  {
   "cell_type": "code",
   "execution_count": 3,
   "metadata": {},
   "outputs": [
    {
     "name": "stdout",
     "output_type": "stream",
     "text": [
      "Vira-lata\n",
      "AU\n"
     ]
    }
   ],
   "source": [
    "class Cachorro:\n",
    "    def __init__(self, nome, idade, raca):\n",
    "        self.nome = nome\n",
    "        self.idade = idade\n",
    "        self.raca = raca\n",
    "\n",
    "    def latir(self):\n",
    "        print(\"AU\")\n",
    "        \n",
    "meu_cachorro = Cachorro(\"Milo\", 12, 'Vira-lata')\n",
    "\n",
    "\n",
    "print(meu_cachorro.raca)\n",
    "meu_cachorro.latir()"
   ]
  },
  {
   "cell_type": "code",
   "execution_count": null,
   "metadata": {},
   "outputs": [],
   "source": []
  }
 ],
 "metadata": {
  "kernelspec": {
   "display_name": "coder_house",
   "language": "python",
   "name": "python3"
  },
  "language_info": {
   "codemirror_mode": {
    "name": "ipython",
    "version": 3
   },
   "file_extension": ".py",
   "mimetype": "text/x-python",
   "name": "python",
   "nbconvert_exporter": "python",
   "pygments_lexer": "ipython3",
   "version": "3.12.3"
  }
 },
 "nbformat": 4,
 "nbformat_minor": 2
}
