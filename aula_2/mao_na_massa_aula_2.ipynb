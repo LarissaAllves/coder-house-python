{
 "cells": [
  {
   "cell_type": "markdown",
   "metadata": {},
   "source": [
    "Escreva um programa em python que calcule o IMC de uma pessoa. o PROGRAMA DEVE SOLICITAR AO USUÁRIO O PESO EM KG E A ALTURA EM METROS, E EM SEGUIDA, CALCULAR E IMPRIMIR O VALOR DO IMC"
   ]
  },
  {
   "cell_type": "code",
   "execution_count": 2,
   "metadata": {},
   "outputs": [
    {
     "name": "stdout",
     "output_type": "stream",
     "text": [
      "Seu IMC é: 27.34\n"
     ]
    }
   ],
   "source": [
    "peso = float(input(\"Digite o seu peso: \"))\n",
    "altura = float(input(\"Digite sua altura: \"))\n",
    "\n",
    "imc = peso / (altura ** 2)\n",
    "\n",
    "print(f\"Seu IMC é: {imc:.2f}\")"
   ]
  },
  {
   "cell_type": "markdown",
   "metadata": {},
   "source": [
    "FACA UM PROGRAMA QUE CRIE UMA LISTA VAZIA E PERMITA QUE O USUARIO O INSIRA 5 NUMEROS INTEIROS NAS LISTA"
   ]
  },
  {
   "cell_type": "code",
   "execution_count": 4,
   "metadata": {},
   "outputs": [
    {
     "name": "stdout",
     "output_type": "stream",
     "text": [
      "A lista de números é: [1, 2, 3, 4, 5]\n"
     ]
    }
   ],
   "source": [
    "numeros = []\n",
    "\n",
    "numeros.append(int(input(\"Digite o 1 : \")))\n",
    "numeros.append(int(input(\"Digite o 2 \")))\n",
    "numeros.append(int(input(\"Digite o 3: \")))\n",
    "numeros.append(int(input(\"Digite o 4: \")))\n",
    "numeros.append(int(input(\"Digite o 5: \")))\n",
    "\n",
    "print(\"A lista de números é:\", numeros)\n",
    "\n",
    "\n",
    "# usando o for\n",
    "\n",
    "# numeros = []\n",
    "\n",
    "# for i in range(5):\n",
    "#     numero = int(input(f\"Digite o {i+1}º número inteiro: \"))\n",
    "#     numeros.append(numero)\n",
    "\n",
    "# print(\"A lista de números é:\", numeros)\n",
    "\n"
   ]
  },
  {
   "cell_type": "markdown",
   "metadata": {},
   "source": [
    "FACA UM PROGRAMA QUE PEÇA AO USUARIO PARA DIGITAR UMA LISTA DE NOMES SEPARADOS POR VIRGULA E TRANSFORME ESSA LISTA EM UMA LISTA DE STRINGS"
   ]
  },
  {
   "cell_type": "code",
   "execution_count": 7,
   "metadata": {},
   "outputs": [
    {
     "name": "stdout",
     "output_type": "stream",
     "text": [
      "A lista de nomes é: ['lARI', 'LUIZ', 'RAQUEL']\n"
     ]
    }
   ],
   "source": [
    "\n",
    "nomes = list(map(str.strip, input(\"Digite uma lista de nomes separados por vírgula: \").split(\",\")))\n",
    "print(\"A lista de nomes é:\", nomes)\n"
   ]
  }
 ],
 "metadata": {
  "kernelspec": {
   "display_name": "coder_house",
   "language": "python",
   "name": "python3"
  },
  "language_info": {
   "codemirror_mode": {
    "name": "ipython",
    "version": 3
   },
   "file_extension": ".py",
   "mimetype": "text/x-python",
   "name": "python",
   "nbconvert_exporter": "python",
   "pygments_lexer": "ipython3",
   "version": "3.12.3"
  }
 },
 "nbformat": 4,
 "nbformat_minor": 2
}
