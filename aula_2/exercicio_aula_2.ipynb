{
 "cells": [
  {
   "cell_type": "code",
   "execution_count": null,
   "metadata": {},
   "outputs": [],
   "source": [
    "# Exercício 1\n",
    "#Crie uma variável chamada saldo e atribua o valor de 950.60. \n",
    "#Em seguida, pergunte ao usuário quanto dinheiro ele deseja sacar e armazene a resposta em uma variável chada saque.\n",
    "#Subtraia o valor de saque do valor de saldo e imprima a mensagem \"Seu novo saldo é {saldo}\"\n",
    "\n",
    "saldo_disponivel = 950.60\n",
    "\n",
    "valor_saque = float(input(f\"Seu saldo disponível é de R${saldo_disponivel}. Qual valor deseja sacar?\"))\n",
    "\n",
    "saldo_restante = saldo_diponivel - valor_saque\n",
    "\n",
    "print(f\"Seu saldo atual é {saldo_restante}\")"
   ]
  },
  {
   "cell_type": "code",
   "execution_count": 4,
   "metadata": {},
   "outputs": [
    {
     "name": "stdout",
     "output_type": "stream",
     "text": [
      "A fruta ja está na lista\n"
     ]
    }
   ],
   "source": [
    "#Exercico 2\n",
    "# Faça um programa que crie uma lista com 5 frutas e permita que o usuário digite o nome de uma fruta\n",
    "# Se for uma fruta repetida deverá ser desconsiderada\n",
    "\n",
    "lista_de_frutas = [\"uva\", \"morango\", \"maça\", \"banana\", \"amora\"]\n",
    "\n",
    "nova_fruta = str(input(f\"Adicione uma fruta na lista\"))\n",
    "\n",
    "if nova_fruta in lista_de_frutas:\n",
    "    print(\"A fruta ja está na lista\")\n",
    "\n",
    "else:\n",
    "    lista_de_frutas.append(nova_fruta)\n",
    "\n",
    "    print(lista_de_frutas)"
   ]
  },
  {
   "cell_type": "code",
   "execution_count": 10,
   "metadata": {},
   "outputs": [
    {
     "name": "stdout",
     "output_type": "stream",
     "text": [
      "**, m** n*m* é l*r*ss*\n"
     ]
    }
   ],
   "source": [
    "#Exercicio 3\n",
    "\n",
    "#Faça um programa que peça ao usuário para digitar uma frase e substitua todas as vogais por asteriscos\n",
    "\n",
    "frase = str(input('Digite seu nome e sua idade'))\n",
    "\n",
    "nova_frase = frase.replace(\"a\", \"*\")\n",
    "nova_frase = nova_frase.replace(\"e\", \"*\")\n",
    "nova_frase = nova_frase.replace(\"i\", \"*\")\n",
    "nova_frase = nova_frase.replace(\"o\", \"*\")\n",
    "nova_frase = nova_frase.replace(\"u\", \"*\")\n",
    "\n",
    "\n",
    "print(nova_frase)\n",
    "\n",
    "\n",
    "# Usando o for\n",
    "\n",
    "# frase = str(input('Digite seu nome e sua idade: '))\n",
    "\n",
    "# vogais = (\"a\", \"e\", \"i\", \"o\", \"u\")\n",
    "\n",
    "# for vogal in vogais:\n",
    "#     frase = frase.replace(vogal, \"*\")\n",
    "\n",
    "# print(frase)\n",
    "\n",
    "\n",
    "\n"
   ]
  },
  {
   "cell_type": "code",
   "execution_count": 21,
   "metadata": {},
   "outputs": [
    {
     "name": "stdout",
     "output_type": "stream",
     "text": [
      "M** n*m* é l*r*ss*\n"
     ]
    }
   ],
   "source": []
  }
 ],
 "metadata": {
  "kernelspec": {
   "display_name": "coder_house",
   "language": "python",
   "name": "python3"
  },
  "language_info": {
   "codemirror_mode": {
    "name": "ipython",
    "version": 3
   },
   "file_extension": ".py",
   "mimetype": "text/x-python",
   "name": "python",
   "nbconvert_exporter": "python",
   "pygments_lexer": "ipython3",
   "version": "3.12.3"
  }
 },
 "nbformat": 4,
 "nbformat_minor": 2
}
