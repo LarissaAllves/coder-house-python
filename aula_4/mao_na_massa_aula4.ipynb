{
 "cells": [
  {
   "cell_type": "markdown",
   "metadata": {},
   "source": [
    "Crie uma função lambda chamada é_multiplo_Dez() que retorna True se um determinada numero for multiplo de 10 e False caso contrario\n"
   ]
  },
  {
   "cell_type": "code",
   "execution_count": 7,
   "metadata": {},
   "outputs": [
    {
     "data": {
      "text/plain": [
       "True"
      ]
     },
     "execution_count": 7,
     "metadata": {},
     "output_type": "execute_result"
    }
   ],
   "source": [
    "eh_par = lambda x: (x %10) == 0\n",
    "eh_par(20)"
   ]
  },
  {
   "cell_type": "markdown",
   "metadata": {},
   "source": [
    "Converta o programa de cálculo de fatorial da aula anterior em uma função. A função deve receber como argumento o n e retornar o fatorial de n.\n"
   ]
  },
  {
   "cell_type": "code",
   "execution_count": 9,
   "metadata": {},
   "outputs": [
    {
     "name": "stdout",
     "output_type": "stream",
     "text": [
      "O fatorial de 4 é 24\n"
     ]
    }
   ],
   "source": [
    "def fatorial(n):\n",
    "    resultado = 1\n",
    "    for i in range(1, n + 1):\n",
    "        resultado *= i\n",
    "    return resultado\n",
    "\n",
    "\n",
    "numero = int(input('Digite um número inteiro: '))\n",
    "print(f\"O fatorial de {numero} é {fatorial(numero)}\")"
   ]
  },
  {
   "cell_type": "markdown",
   "metadata": {},
   "source": [
    "Crie uma função primeiro_nome que recebe uma string nome completo e retorna somente o primeiro nome. Em seguida use a função map para aplicar a funcão a uma lista de strings:\n",
    "nomes: [\"João Carlos\", \"Maria Eduarda\", \"Ana Rute\", \"Ana Clara\"]"
   ]
  },
  {
   "cell_type": "code",
   "execution_count": 12,
   "metadata": {},
   "outputs": [
    {
     "name": "stdout",
     "output_type": "stream",
     "text": [
      "['João', 'Maria', 'Ana', 'Ana']\n"
     ]
    }
   ],
   "source": [
    "def primeiro_nome(nome_completo):\n",
    "  return nome_completo.split()[0]\n",
    "\n",
    "nomes = [\"João Carlos\", \"Maria Eduarda\", \"Ana Rute\", \"Ana Clara\"]\n",
    "\n",
    "resultado = list(map(primeiro_nome, nomes))\n",
    "\n",
    "print(resultado)"
   ]
  },
  {
   "cell_type": "markdown",
   "metadata": {},
   "source": [
    "Escreva uma função que receba uma data no formato dd/mm/aaaa e retorne o dia da semana correspondente"
   ]
  },
  {
   "cell_type": "code",
   "execution_count": 22,
   "metadata": {},
   "outputs": [
    {
     "name": "stdout",
     "output_type": "stream",
     "text": [
      "Monday\n"
     ]
    }
   ],
   "source": [
    "from datetime import datetime\n",
    "\n",
    "def data_atual(data):\n",
    "  data = datetime.strptime(data, \"%d/%m/%Y\")\n",
    "  return data.strftime(\"%A\")\n",
    "\n",
    "print(data_atual(\"28/10/2024\"))\n",
    "\n"
   ]
  }
 ],
 "metadata": {
  "kernelspec": {
   "display_name": "coder_house",
   "language": "python",
   "name": "python3"
  },
  "language_info": {
   "codemirror_mode": {
    "name": "ipython",
    "version": 3
   },
   "file_extension": ".py",
   "mimetype": "text/x-python",
   "name": "python",
   "nbconvert_exporter": "python",
   "pygments_lexer": "ipython3",
   "version": "3.12.3"
  }
 },
 "nbformat": 4,
 "nbformat_minor": 2
}
