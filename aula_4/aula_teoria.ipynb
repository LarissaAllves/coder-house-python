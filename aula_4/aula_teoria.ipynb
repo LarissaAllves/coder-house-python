{
 "cells": [
  {
   "cell_type": "markdown",
   "metadata": {},
   "source": [
    "Funções\n",
    "\n",
    "Podem ser chamadas várias vezes em diferentes partes do programa\n",
    "Podem ou não receber parâmetros de entrada\n",
    "Podem ou não retornar valores de saida\n",
    "\n",
    "Porque usar função\n",
    "\n",
    "Evitar que blocos de programas fiquem grandes demais\n",
    "Separar o programa em partes que possam ser logicamente compreendidas de forma isolada\n",
    "Permitir o reaproveitamento de código já escrito\n",
    "Evitar que o programa tenha vários trechos muito parecidos\n"
   ]
  },
  {
   "cell_type": "code",
   "execution_count": 3,
   "metadata": {},
   "outputs": [
    {
     "name": "stdout",
     "output_type": "stream",
     "text": [
      "Imposto de 750.0\n",
      "Imposto de 500.0\n",
      "Imposto de 500.0\n"
     ]
    }
   ],
   "source": [
    "def calcular_imposto(salario, taxa=0.1):\n",
    "  imposto = salario * taxa\n",
    "  print(\"Imposto de\", imposto)\n",
    "\n",
    "calcular_imposto(5000, 0.15)\n",
    "calcular_imposto(5000, 0.1)\n",
    "calcular_imposto(5000)\n",
    "\n"
   ]
  },
  {
   "cell_type": "markdown",
   "metadata": {},
   "source": [
    "Funçoes lambda\n",
    "\n",
    "é uma função anonima que pode ser usada pra criar funções simples e de uma linha sem a necessidade de defini-las com um nome específico\n",
    "\n",
    "lambda argumentos:expressão"
   ]
  },
  {
   "cell_type": "code",
   "execution_count": 4,
   "metadata": {},
   "outputs": [
    {
     "data": {
      "text/plain": [
       "16"
      ]
     },
     "execution_count": 4,
     "metadata": {},
     "output_type": "execute_result"
    }
   ],
   "source": [
    "# Exemplos\n",
    "\n",
    "quadrado = lambda x: x ** 2\n",
    "quadrado(4)"
   ]
  },
  {
   "cell_type": "code",
   "execution_count": 5,
   "metadata": {},
   "outputs": [
    {
     "data": {
      "text/plain": [
       "True"
      ]
     },
     "execution_count": 5,
     "metadata": {},
     "output_type": "execute_result"
    }
   ],
   "source": [
    "eh_par = lambda x: (x %2) == 0\n",
    "eh_par(4)"
   ]
  },
  {
   "cell_type": "markdown",
   "metadata": {},
   "source": [
    "Funções MAP\n",
    "\n",
    "É uma função integrada que recebe uma função e um ou mais iteráveis como argumentos, e aplica a função a cada elemento iterável, retornando um iterador que contem os resultados das aplicações\n",
    "\n",
    "map(funcao, iterável, iteravel)"
   ]
  },
  {
   "cell_type": "code",
   "execution_count": 6,
   "metadata": {},
   "outputs": [
    {
     "name": "stdout",
     "output_type": "stream",
     "text": [
      "[6, 4, 4]\n"
     ]
    }
   ],
   "source": [
    "#Exemplo\n",
    "\n",
    "frutas = [ \"Banana\", \"Pera\", \"Maça\"]\n",
    "tamanhos = map(len, frutas)\n",
    "print(list(tamanhos))"
   ]
  },
  {
   "cell_type": "code",
   "execution_count": 8,
   "metadata": {},
   "outputs": [
    {
     "name": "stdout",
     "output_type": "stream",
     "text": [
      "[9, 16, 25]\n"
     ]
    }
   ],
   "source": [
    "lista_quadrado = list(map(quadrado, [3,4,5]))\n",
    "print(lista_quadrado)"
   ]
  },
  {
   "cell_type": "markdown",
   "metadata": {},
   "source": [
    "Date/Time\n",
    "\n",
    "Trabalhar com datas, horários e deltas é feito por meio do módulo datetime\n",
    "\n",
    "date (ano, mes, dia)\n",
    "\n",
    "o método today() retorna a data atual\n",
    "o método now() retorna a data com o horário atual\n",
    "\n",
    "from datetime import date\n",
    "\n",
    "Podemos formatar uma data em uma string usando o método strftime(). Este método aceita um formato de string como argumento, que é usado para especificar o layout da string resultante\n",
    "\n",
    "** strptime() faz o caminho inverso, de string para o formato datetime"
   ]
  },
  {
   "cell_type": "code",
   "execution_count": 13,
   "metadata": {},
   "outputs": [
    {
     "name": "stdout",
     "output_type": "stream",
     "text": [
      "2023-01-25\n",
      "25/01/2023\n"
     ]
    }
   ],
   "source": [
    "#exemplo1\n",
    "\n",
    "from datetime import date\n",
    "\n",
    "\n",
    "aniversario = date(2023, 1, 25)\n",
    "\n",
    "print(aniversario)\n",
    "\n",
    "date.today()\n",
    "\n",
    "#Exempplo 2\n",
    "\n",
    "formatado = aniversario.strftime(\"%d/%m/%Y\")\n",
    "print(formatado)\n"
   ]
  }
 ],
 "metadata": {
  "kernelspec": {
   "display_name": "coder_house",
   "language": "python",
   "name": "python3"
  },
  "language_info": {
   "codemirror_mode": {
    "name": "ipython",
    "version": 3
   },
   "file_extension": ".py",
   "mimetype": "text/x-python",
   "name": "python",
   "nbconvert_exporter": "python",
   "pygments_lexer": "ipython3",
   "version": "3.12.3"
  }
 },
 "nbformat": 4,
 "nbformat_minor": 2
}
